{
 "cells": [
  {
   "cell_type": "code",
   "execution_count": 11,
   "metadata": {},
   "outputs": [],
   "source": [
    "import cv2\n",
    "import matplotlib.pyplot as plt\n",
    "import torch\n",
    "import torch.nn as nn\n",
    "\n",
    "from atlas_ml.datasets.data_pipeline import DataPipeline\n",
    "from atlas_ml.deeplearning.vae import VAE"
   ]
  },
  {
   "cell_type": "markdown",
   "metadata": {},
   "source": [
    "### Basic example on MNIST"
   ]
  },
  {
   "cell_type": "code",
   "execution_count": 2,
   "metadata": {},
   "outputs": [],
   "source": [
    "vae = VAE(img_size=28, input_channels=1, output_channels=1)\n",
    "dataset_config = {'batch_size':128, 'val_split':0.2, 'num_workers':2, 'pin_memory':True}\n",
    "train_dl, val_dl = DataPipeline(configs=dataset_config).get_dataset() # default is mnist"
   ]
  },
  {
   "cell_type": "code",
   "execution_count": 3,
   "metadata": {},
   "outputs": [
    {
     "data": {
      "application/vnd.jupyter.widget-view+json": {
       "model_id": "cfa711081ca346f2b8b7335932142f0f",
       "version_major": 2,
       "version_minor": 0
      },
      "text/plain": [
       "  0%|          | 0/10 [00:00<?, ?it/s]"
      ]
     },
     "metadata": {},
     "output_type": "display_data"
    }
   ],
   "source": [
    "vae.train_model(\n",
    "    train_dataloader=train_dl,\n",
    "    val_dataloader=val_dl,\n",
    "    optimizer=torch.optim.Adam,\n",
    "    criterion=nn.MSELoss,\n",
    "    epochs=10,\n",
    "    lr=3e-4,\n",
    "    device='cuda'\n",
    ")"
   ]
  },
  {
   "cell_type": "markdown",
   "metadata": {},
   "source": [
    "### Visualise Reconstructed Images"
   ]
  },
  {
   "cell_type": "code",
   "execution_count": 19,
   "metadata": {},
   "outputs": [
    {
     "data": {
      "text/plain": [
       "Text(0.5, 1.0, 'After 5 Epochs')"
      ]
     },
     "execution_count": 19,
     "metadata": {},
     "output_type": "execute_result"
    },
    {
     "data": {
      "image/png": "[encoded data removed]",
      "text/plain": [
       "<Figure size 640x480 with 2 Axes>"
      ]
     },
     "metadata": {},
     "output_type": "display_data"
    }
   ],
   "source": [
    "img_epoch_0 = cv2.imread(r'C:\\Users\\tommy\\Developer\\atlas-ml\\atlas_ml\\deeplearning\\notebooks\\sample_0.png')\n",
    "img_epoch_5 = cv2.imread(r'C:\\Users\\tommy\\Developer\\atlas-ml\\atlas_ml\\deeplearning\\notebooks\\sample_5.png')\n",
    "\n",
    "_, ax = plt.subplots(1,2)\n",
    "ax[0].imshow(img_epoch_0)\n",
    "ax[0].set_title('After 0 Epochs')\n",
    "ax[1].imshow(img_epoch_5)\n",
    "ax[1].set_title('After 5 Epochs')"
   ]
  },
  {
   "cell_type": "code",
   "execution_count": null,
   "metadata": {},
   "outputs": [],
   "source": []
  }
 ],
 "metadata": {
  "kernelspec": {
   "display_name": "atlas-ml",
   "language": "python",
   "name": "python3"
  },
  "language_info": {
   "codemirror_mode": {
    "name": "ipython",
    "version": 3
   },
   "file_extension": ".py",
   "mimetype": "text/x-python",
   "name": "python",
   "nbconvert_exporter": "python",
   "pygments_lexer": "ipython3",
   "version": "3.12.4"
  }
 },
 "nbformat": 4,
 "nbformat_minor": 2
}
